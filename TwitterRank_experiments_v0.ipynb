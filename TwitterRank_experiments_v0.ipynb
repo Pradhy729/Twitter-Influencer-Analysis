{
 "cells": [
  {
   "cell_type": "code",
   "execution_count": 1,
   "metadata": {},
   "outputs": [],
   "source": [
    "import pandas as pd\n",
    "import numpy as np"
   ]
  },
  {
   "cell_type": "code",
   "execution_count": 2,
   "metadata": {},
   "outputs": [],
   "source": [
    "import matplotlib.pyplot as plt\n",
    "import seaborn as sns\n",
    "\n",
    "plt.style.use('fivethirtyeight')"
   ]
  },
  {
   "cell_type": "code",
   "execution_count": 3,
   "metadata": {},
   "outputs": [],
   "source": [
    "import TwitterRank\n"
   ]
  },
  {
   "cell_type": "code",
   "execution_count": 31,
   "metadata": {},
   "outputs": [
    {
     "data": {
      "text/plain": [
       "<module 'TwitterRank' from 'C:\\\\Users\\\\pradhyum\\\\github_repos\\\\TwitterRank\\\\TwitterRank.py'>"
      ]
     },
     "execution_count": 31,
     "metadata": {},
     "output_type": "execute_result"
    }
   ],
   "source": [
    "import importlib\n",
    "\n",
    "importlib.reload(TwitterRank)"
   ]
  },
  {
   "cell_type": "code",
   "execution_count": 5,
   "metadata": {},
   "outputs": [],
   "source": [
    "tweets_df = pd.read_csv('AI Twitter.csv',delimiter=',',skiprows=6,error_bad_lines=False)"
   ]
  },
  {
   "cell_type": "code",
   "execution_count": 6,
   "metadata": {},
   "outputs": [
    {
     "data": {
      "text/html": [
       "<div>\n",
       "<style scoped>\n",
       "    .dataframe tbody tr th:only-of-type {\n",
       "        vertical-align: middle;\n",
       "    }\n",
       "\n",
       "    .dataframe tbody tr th {\n",
       "        vertical-align: top;\n",
       "    }\n",
       "\n",
       "    .dataframe thead th {\n",
       "        text-align: right;\n",
       "    }\n",
       "</style>\n",
       "<table border=\"1\" class=\"dataframe\">\n",
       "  <thead>\n",
       "    <tr style=\"text-align: right;\">\n",
       "      <th></th>\n",
       "      <th>Query Id</th>\n",
       "      <th>Query Name</th>\n",
       "      <th>Date</th>\n",
       "      <th>Title</th>\n",
       "      <th>Snippet</th>\n",
       "      <th>Url</th>\n",
       "      <th>Domain</th>\n",
       "      <th>Sentiment</th>\n",
       "      <th>Page Type</th>\n",
       "      <th>Language</th>\n",
       "      <th>...</th>\n",
       "      <th>Twitter Reply Count</th>\n",
       "      <th>Twitter Reply to</th>\n",
       "      <th>Twitter Retweet of</th>\n",
       "      <th>Twitter Retweets</th>\n",
       "      <th>Twitter Tweets</th>\n",
       "      <th>Twitter Verified</th>\n",
       "      <th>Updated</th>\n",
       "      <th>Word Count</th>\n",
       "      <th>mozRank Score</th>\n",
       "      <th>Reach (new)</th>\n",
       "    </tr>\n",
       "  </thead>\n",
       "  <tbody>\n",
       "    <tr>\n",
       "      <th>0</th>\n",
       "      <td>1999642147</td>\n",
       "      <td>AI Twitter</td>\n",
       "      <td>2018-12-20 23:59:13.0</td>\n",
       "      <td>SiRON Technologies Group Inc. (@ManagedbySiRON...</td>\n",
       "      <td>#RT MSCloud \"Learn how #AI offers new ways to ...</td>\n",
       "      <td>http://twitter.com/ManagedbySiRON/statuses/107...</td>\n",
       "      <td>twitter.com</td>\n",
       "      <td>neutral</td>\n",
       "      <td>twitter</td>\n",
       "      <td>en</td>\n",
       "      <td>...</td>\n",
       "      <td>0</td>\n",
       "      <td>NaN</td>\n",
       "      <td>NaN</td>\n",
       "      <td>0</td>\n",
       "      <td>2681</td>\n",
       "      <td>False</td>\n",
       "      <td>2018-12-21T16:33:02.450+0000</td>\n",
       "      <td>NaN</td>\n",
       "      <td>9.6</td>\n",
       "      <td>0.0</td>\n",
       "    </tr>\n",
       "    <tr>\n",
       "      <th>1</th>\n",
       "      <td>1999642147</td>\n",
       "      <td>AI Twitter</td>\n",
       "      <td>2018-12-20 23:58:57.0</td>\n",
       "      <td>Roy Munin (@muninJLM): + local talent in AI, c...</td>\n",
       "      <td>+ local talent in AI, computer vision, visual ...</td>\n",
       "      <td>http://twitter.com/muninJLM/statuses/107590341...</td>\n",
       "      <td>twitter.com</td>\n",
       "      <td>positive</td>\n",
       "      <td>twitter</td>\n",
       "      <td>en</td>\n",
       "      <td>...</td>\n",
       "      <td>0</td>\n",
       "      <td>http://twitter.com/muninJLM/statuses/107588714...</td>\n",
       "      <td>NaN</td>\n",
       "      <td>0</td>\n",
       "      <td>4685</td>\n",
       "      <td>False</td>\n",
       "      <td>2018-12-21T16:31:31.330+0000</td>\n",
       "      <td>NaN</td>\n",
       "      <td>9.6</td>\n",
       "      <td>1046.0</td>\n",
       "    </tr>\n",
       "    <tr>\n",
       "      <th>2</th>\n",
       "      <td>1999642147</td>\n",
       "      <td>AI Twitter</td>\n",
       "      <td>2018-12-20 23:58:24.0</td>\n",
       "      <td>Mcse.Carlos Barcia G (@carlosbarciag): RT @MSC...</td>\n",
       "      <td>RT @MSCloud: Learn how #AI offers new ways to ...</td>\n",
       "      <td>http://twitter.com/carlosbarciag/statuses/1075...</td>\n",
       "      <td>twitter.com</td>\n",
       "      <td>neutral</td>\n",
       "      <td>twitter</td>\n",
       "      <td>en</td>\n",
       "      <td>...</td>\n",
       "      <td>0</td>\n",
       "      <td>NaN</td>\n",
       "      <td>http://twitter.com/MSCloud/statuses/1075902673...</td>\n",
       "      <td>0</td>\n",
       "      <td>6417</td>\n",
       "      <td>False</td>\n",
       "      <td>2018-12-21T16:33:02.450+0000</td>\n",
       "      <td>NaN</td>\n",
       "      <td>9.6</td>\n",
       "      <td>0.0</td>\n",
       "    </tr>\n",
       "    <tr>\n",
       "      <th>3</th>\n",
       "      <td>1999642147</td>\n",
       "      <td>AI Twitter</td>\n",
       "      <td>2018-12-20 23:58:23.0</td>\n",
       "      <td>Int Technology (@IntTechAU): MSCloud: Learn ho...</td>\n",
       "      <td>MSCloud: Learn how #AI offers new ways to boos...</td>\n",
       "      <td>http://twitter.com/IntTechAU/statuses/10759032...</td>\n",
       "      <td>twitter.com</td>\n",
       "      <td>neutral</td>\n",
       "      <td>twitter</td>\n",
       "      <td>en</td>\n",
       "      <td>...</td>\n",
       "      <td>0</td>\n",
       "      <td>NaN</td>\n",
       "      <td>NaN</td>\n",
       "      <td>0</td>\n",
       "      <td>7106</td>\n",
       "      <td>False</td>\n",
       "      <td>2018-12-21T16:33:02.450+0000</td>\n",
       "      <td>NaN</td>\n",
       "      <td>9.6</td>\n",
       "      <td>0.0</td>\n",
       "    </tr>\n",
       "    <tr>\n",
       "      <th>4</th>\n",
       "      <td>1999642147</td>\n",
       "      <td>AI Twitter</td>\n",
       "      <td>2018-12-20 23:58:03.0</td>\n",
       "      <td>Dr N Patel 🇮🇳 🚩 (@hindustanse): RT @hindustans...</td>\n",
       "      <td>RT @hindustanse: @jeetensingh @RaiSahab20 @Sau...</td>\n",
       "      <td>http://twitter.com/hindustanse/statuses/107590...</td>\n",
       "      <td>twitter.com</td>\n",
       "      <td>neutral</td>\n",
       "      <td>twitter</td>\n",
       "      <td>en</td>\n",
       "      <td>...</td>\n",
       "      <td>0</td>\n",
       "      <td>NaN</td>\n",
       "      <td>http://twitter.com/hindustanse/statuses/107590...</td>\n",
       "      <td>0</td>\n",
       "      <td>470835</td>\n",
       "      <td>False</td>\n",
       "      <td>2018-12-21T18:39:56.343+0000</td>\n",
       "      <td>NaN</td>\n",
       "      <td>9.6</td>\n",
       "      <td>14736.0</td>\n",
       "    </tr>\n",
       "  </tbody>\n",
       "</table>\n",
       "<p>5 rows × 111 columns</p>\n",
       "</div>"
      ],
      "text/plain": [
       "     Query Id  Query Name                   Date  \\\n",
       "0  1999642147  AI Twitter  2018-12-20 23:59:13.0   \n",
       "1  1999642147  AI Twitter  2018-12-20 23:58:57.0   \n",
       "2  1999642147  AI Twitter  2018-12-20 23:58:24.0   \n",
       "3  1999642147  AI Twitter  2018-12-20 23:58:23.0   \n",
       "4  1999642147  AI Twitter  2018-12-20 23:58:03.0   \n",
       "\n",
       "                                               Title  \\\n",
       "0  SiRON Technologies Group Inc. (@ManagedbySiRON...   \n",
       "1  Roy Munin (@muninJLM): + local talent in AI, c...   \n",
       "2  Mcse.Carlos Barcia G (@carlosbarciag): RT @MSC...   \n",
       "3  Int Technology (@IntTechAU): MSCloud: Learn ho...   \n",
       "4  Dr N Patel 🇮🇳 🚩 (@hindustanse): RT @hindustans...   \n",
       "\n",
       "                                             Snippet  \\\n",
       "0  #RT MSCloud \"Learn how #AI offers new ways to ...   \n",
       "1  + local talent in AI, computer vision, visual ...   \n",
       "2  RT @MSCloud: Learn how #AI offers new ways to ...   \n",
       "3  MSCloud: Learn how #AI offers new ways to boos...   \n",
       "4  RT @hindustanse: @jeetensingh @RaiSahab20 @Sau...   \n",
       "\n",
       "                                                 Url       Domain Sentiment  \\\n",
       "0  http://twitter.com/ManagedbySiRON/statuses/107...  twitter.com   neutral   \n",
       "1  http://twitter.com/muninJLM/statuses/107590341...  twitter.com  positive   \n",
       "2  http://twitter.com/carlosbarciag/statuses/1075...  twitter.com   neutral   \n",
       "3  http://twitter.com/IntTechAU/statuses/10759032...  twitter.com   neutral   \n",
       "4  http://twitter.com/hindustanse/statuses/107590...  twitter.com   neutral   \n",
       "\n",
       "  Page Type Language  ... Twitter Reply Count  \\\n",
       "0   twitter       en  ...                   0   \n",
       "1   twitter       en  ...                   0   \n",
       "2   twitter       en  ...                   0   \n",
       "3   twitter       en  ...                   0   \n",
       "4   twitter       en  ...                   0   \n",
       "\n",
       "                                    Twitter Reply to  \\\n",
       "0                                                NaN   \n",
       "1  http://twitter.com/muninJLM/statuses/107588714...   \n",
       "2                                                NaN   \n",
       "3                                                NaN   \n",
       "4                                                NaN   \n",
       "\n",
       "                                  Twitter Retweet of Twitter Retweets  \\\n",
       "0                                                NaN                0   \n",
       "1                                                NaN                0   \n",
       "2  http://twitter.com/MSCloud/statuses/1075902673...                0   \n",
       "3                                                NaN                0   \n",
       "4  http://twitter.com/hindustanse/statuses/107590...                0   \n",
       "\n",
       "  Twitter Tweets Twitter Verified                       Updated  Word Count  \\\n",
       "0           2681            False  2018-12-21T16:33:02.450+0000         NaN   \n",
       "1           4685            False  2018-12-21T16:31:31.330+0000         NaN   \n",
       "2           6417            False  2018-12-21T16:33:02.450+0000         NaN   \n",
       "3           7106            False  2018-12-21T16:33:02.450+0000         NaN   \n",
       "4         470835            False  2018-12-21T18:39:56.343+0000         NaN   \n",
       "\n",
       "  mozRank Score Reach (new)  \n",
       "0           9.6         0.0  \n",
       "1           9.6      1046.0  \n",
       "2           9.6         0.0  \n",
       "3           9.6         0.0  \n",
       "4           9.6     14736.0  \n",
       "\n",
       "[5 rows x 111 columns]"
      ]
     },
     "execution_count": 6,
     "metadata": {},
     "output_type": "execute_result"
    }
   ],
   "source": [
    "tweets_df.head()"
   ]
  },
  {
   "cell_type": "code",
   "execution_count": 7,
   "metadata": {},
   "outputs": [
    {
     "name": "stdout",
     "output_type": "stream",
     "text": [
      "<class 'pandas.core.frame.DataFrame'>\n",
      "RangeIndex: 430895 entries, 0 to 430894\n",
      "Columns: 111 entries, Query Id to Reach (new)\n",
      "dtypes: bool(3), float64(21), int64(33), object(54)\n",
      "memory usage: 356.3+ MB\n"
     ]
    }
   ],
   "source": [
    "tweets_df.info()"
   ]
  },
  {
   "cell_type": "code",
   "execution_count": 8,
   "metadata": {},
   "outputs": [
    {
     "data": {
      "text/plain": [
       "Index(['Query Id', 'Query Name', 'Date', 'Title', 'Snippet', 'Url', 'Domain',\n",
       "       'Sentiment', 'Page Type', 'Language',\n",
       "       ...\n",
       "       'Twitter Reply Count', 'Twitter Reply to', 'Twitter Retweet of',\n",
       "       'Twitter Retweets', 'Twitter Tweets', 'Twitter Verified', 'Updated',\n",
       "       'Word Count', 'mozRank Score', 'Reach (new)'],\n",
       "      dtype='object', length=111)"
      ]
     },
     "execution_count": 8,
     "metadata": {},
     "output_type": "execute_result"
    }
   ],
   "source": [
    "tweets_df.columns"
   ]
  },
  {
   "cell_type": "code",
   "execution_count": 9,
   "metadata": {},
   "outputs": [
    {
     "name": "stderr",
     "output_type": "stream",
     "text": [
      "c:\\users\\pradhyum\\appdata\\local\\programs\\python\\python35\\lib\\re.py:203: FutureWarning: split() requires a non-empty pattern match.\n",
      "  return _compile(pattern, flags).split(string, maxsplit)\n"
     ]
    }
   ],
   "source": [
    "doc_list = TwitterRank.get_doc_list(samples=30)"
   ]
  },
  {
   "cell_type": "code",
   "execution_count": 11,
   "metadata": {},
   "outputs": [
    {
     "data": {
      "text/plain": [
       "chidambara09       2817\n",
       "machinelearn_d     2273\n",
       "VillamizarITPro    1594\n",
       "theChrisChua       1565\n",
       "JupiterOneBDA      1330\n",
       "ArkangelScrap      1204\n",
       "Rosenchild         1160\n",
       "annanaveed         1078\n",
       "DeepLearn007       1050\n",
       "GFACCORD           1007\n",
       "HubBucket           995\n",
       "Calcaware           987\n",
       "vidales_silva       955\n",
       "iamjony94           936\n",
       "machine_ml          936\n",
       "machinelearnflx     918\n",
       "DME_Jun             900\n",
       "VVagias             820\n",
       "sectest9            810\n",
       "SantchiWeb          751\n",
       "getleansocial       731\n",
       "GFradelos           672\n",
       "EdgeIotAi           635\n",
       "geekFreak75         622\n",
       "SelfdrivingC        622\n",
       "Mutant62730511      610\n",
       "msarozz             602\n",
       "9cnewsuae           593\n",
       "DPassionne          590\n",
       "deepindex           580\n",
       "                   ... \n",
       "s9ZiYeE8yrzhr3i       1\n",
       "FedAmorosi            1\n",
       "rohan_say             1\n",
       "Xhashank27            1\n",
       "Geck__                1\n",
       "SERPbuddy             1\n",
       "R2_moreno             1\n",
       "TBCANETWORK           1\n",
       "JagaIND               1\n",
       "mattjeanes23          1\n",
       "polom_karol           1\n",
       "_quchenko             1\n",
       "HickeyWriter          1\n",
       "robbiefreak           1\n",
       "braza209              1\n",
       "nomidaydajie          1\n",
       "inklesstales          1\n",
       "KarinDequeecker       1\n",
       "SQL_Alex              1\n",
       "Aulstrue              1\n",
       "MacTrast              1\n",
       "johnweiss             1\n",
       "luvthemstillers       1\n",
       "NETConfUY             1\n",
       "jedgarnaut            1\n",
       "LouisaSlavkova        1\n",
       "lompabo               1\n",
       "ShilpiChakrava1       1\n",
       "HelMontrose           1\n",
       "BlindBirder           1\n",
       "Name: Author, Length: 152810, dtype: int64"
      ]
     },
     "execution_count": 11,
     "metadata": {},
     "output_type": "execute_result"
    }
   ],
   "source": [
    "tweets_df['Author'].value_counts(ascending=False)"
   ]
  },
  {
   "cell_type": "code",
   "execution_count": 12,
   "metadata": {},
   "outputs": [
    {
     "data": {
      "text/plain": [
       "'+ local talent in AI, computer vision, visual arts, architecture... #1 producer of CS students in the country and the most attractive brand is Intel/Mobileye so top students will definitely all check out Airbnb first before considering relocation for other corporates in TLV metro'"
      ]
     },
     "execution_count": 12,
     "metadata": {},
     "output_type": "execute_result"
    }
   ],
   "source": [
    "import re\n",
    "tweets_df['Full Text'].iloc[1]"
   ]
  },
  {
   "cell_type": "code",
   "execution_count": 13,
   "metadata": {},
   "outputs": [
    {
     "data": {
      "text/plain": [
       "0         #RT MSCloud \"Learn how #AI offers new ways to ...\n",
       "1         + local talent in AI, computer vision, visual ...\n",
       "2         RT @MSCloud: Learn how #AI offers new ways to ...\n",
       "3         MSCloud: Learn how #AI offers new ways to boos...\n",
       "4         RT @hindustanse: @jeetensingh @RaiSahab20 @Sau...\n",
       "5         RT @salilsethi: Dear 1 billion objects -\\n\\nI ...\n",
       "6         @jeetensingh @RaiSahab20 @SaundiD @kvQuote @Ra...\n",
       "7         RT @MHiesboeck: This @Google #AI created its o...\n",
       "8         RT @Office365: The #FutureOfWork is here. Read...\n",
       "9         Learn how #AI offers new ways to boost employe...\n",
       "10        RT @DingoPublishing: RT LeadHealthy: Feeling S...\n",
       "11        RT @GoogleARVR: AI is rapidly progressing, har...\n",
       "12        RT LeadHealthy: Feeling Stressed  at Work? 👩‍💼...\n",
       "13        RT @Adobe: Detect, tap and replicate. Watch as...\n",
       "14        RT @bzamayo: Machine learning and AI encompass...\n",
       "15        RT @LeadHealthy: Feeling Stressed  at Work? 👩‍...\n",
       "16        RT @into_AI: A Year of AI Transformation - ......\n",
       "17        @Langsian1  Hi Langsian, You might be interest...\n",
       "18        Will AI takeover the world? Will Blockchain ch...\n",
       "19        @WhaleUpdate @hash278 @sXnyreh0Mpj4uuX @mislyv...\n",
       "20        Georgios Fradelos #company message Global 500 ...\n",
       "21        1. General Information for Deep Learning Funda...\n",
       "22        LMK what you think of my new app - Apple: -uss...\n",
       "23        RT @LeadHealthy: Feeling Stressed  at Work? 👩‍...\n",
       "24        RT @blue_prism: #BluePrism2018: In March we un...\n",
       "25        RT @MikeQuindazzi: 4 advancing areas of #DeepL...\n",
       "26        RT @Ronald_vanLoon: How can organizations move...\n",
       "27        Microsoft publishes six principles to guide it...\n",
       "28        RT @NVIDIAEmbedded: Want a more technical dive...\n",
       "29        How Artificial Intelligence Will Change Corpor...\n",
       "                                ...                        \n",
       "430865    RT @RobinMazumder: @plragde @Twitter @jack as ...\n",
       "430866    @plragde @Twitter @jack as a computer science ...\n",
       "430867    RT @arnabch01: #AI #robotics #BigData #genomic...\n",
       "430868    RT @arnabch01: @semicvet50 @VladimerAntonov @M...\n",
       "430869    RT @bschorr: Microsoft and UPMC unveil virtual...\n",
       "430870    Three ways brands can benefit from adopting vo...\n",
       "430871    Some of the last interviews Instagram founder ...\n",
       "430872    Microsoft and UPMC unveil virtual AI assistant...\n",
       "430873    IBM is on a mission to defend its ‘street cred...\n",
       "430874    Until data is misused, Facebook’s breach will ...\n",
       "430875    There are two important purchases you should m...\n",
       "430876    RT @wiwer77: Eight ways AI will change your bu...\n",
       "430877    RT @moipacheco: Today at work I built a #quadr...\n",
       "430878    To me selfie is the most offensive stuff you h...\n",
       "430879    RT @arnabch01: #AI #ML #Iot #robotics to usher...\n",
       "430880    RT @arnabch01: #AI #ML #BigData #HPC #robotics...\n",
       "430881    RT @arnabch01: The #World salutes #RobertKoch ...\n",
       "430882    RT @wiwer77: Going Beyond #Google: Are Search ...\n",
       "430883    RT @arnabch01: #AI #BigData #HPC t revolutioni...\n",
       "430884    RT @wiwer77: Until data is misused, #Facebook’...\n",
       "430885    RT @NBTech: Intel® FPGAs Powering Real-Time AI...\n",
       "430886    Microsoft has done a lot to encourage use of m...\n",
       "430887    RT @OracleServCloud: According to a new @Ovum ...\n",
       "430888    Microsoft has done a lot to encourage use of m...\n",
       "430889    RT @darrinpjohnson: Achieve up to 40x faster A...\n",
       "430890    RT @wiwer77: Developer Economics Survey: Data ...\n",
       "430891    RT @wiwer77: Sizing The Market Value Of Artifi...\n",
       "430892    Microsoft has done a lot to encourage use of m...\n",
       "430893    Strategic CHRO: Diane Gherson of IBM on How AI...\n",
       "430894    @Scale 2018 Keynote: Inside NVIDIA’s AI infras...\n",
       "Name: Full Text, Length: 430895, dtype: object"
      ]
     },
     "execution_count": 13,
     "metadata": {},
     "output_type": "execute_result"
    }
   ],
   "source": [
    "tweets_df['Full Text'].apply(lambda x:re.sub('[A-Za-z0-9]+\\.[A-Za-z0-9]+/[A-Za-z0-9.@]+','',x))"
   ]
  },
  {
   "cell_type": "code",
   "execution_count": 55,
   "metadata": {},
   "outputs": [],
   "source": [
    "def remove_links(tweet):\n",
    "    tweet = re.sub('http\\S+','',tweet)\n",
    "    tweet = re.sub('(?!http://)bit.ly/\\S+','',tweet)\n",
    "    tweet = re.sub('[A-Za-z0-9.@]+\\.[A-Za-z0-9]+/[A-Za-z0-9.@]+','',tweet)\n",
    "    tweet = tweet.strip('[link]')\n",
    "    return tweet\n",
    "def extract_links(tweet):\n",
    "    link1 = re.findall('http\\S+',tweet)\n",
    "    return list(set(link1.extend(re.findall('(?!http://)bit.ly\\S+',tweet))))\n",
    "def remove_users(tweet):\n",
    "    tweet = re.sub('@[A-Za-z]+[A-Za-z0-9-_]','',tweet)\n",
    "    return tweet\n",
    "def remove_hashtags(tweet):\n",
    "    tweet = re.sub('(#[A-Za-z]+[A-Za-z0-9-_]+)','', tweet)\n",
    "    return tweet"
   ]
  },
  {
   "cell_type": "code",
   "execution_count": 56,
   "metadata": {},
   "outputs": [],
   "source": [
    "import nltk \n",
    "my_stopwords = nltk.corpus.stopwords.words('english')\n",
    "my_stopwords.append('rt')\n",
    "word_rooter = nltk.stem.snowball.PorterStemmer(ignore_stopwords=False).stem\n",
    "my_punctuation = '!\"$%&\\'()*+,-./:;<=>?[\\\\]^_`{|}~•@'\n",
    "\n",
    "# cleaning master function\n",
    "def clean_tweet(tweet, bigrams=False):\n",
    "    tweet = remove_users(tweet)\n",
    "    tweet = remove_links(tweet)\n",
    "    tweet = remove_hashtags(tweet)\n",
    "    tweet = tweet.lower() # lower case\n",
    "    tweet = re.sub('['+my_punctuation + ']+', ' ', tweet) # strip punctuation\n",
    "    tweet = re.sub('\\s+', ' ', tweet) #remove double spacing\n",
    "    tweet = re.sub('([0-9]+)', '', tweet) # remove numbers\n",
    "    tweet_token_list = [word for word in tweet.split(' ')\n",
    "                            if word not in my_stopwords] # remove stopwords\n",
    "\n",
    "    tweet_token_list = [word_rooter(word) if '#' not in word else word\n",
    "                        for word in tweet_token_list] # apply word rooter\n",
    "    if bigrams:\n",
    "        tweet_token_list = tweet_token_list+[tweet_token_list[i]+'_'+tweet_token_list[i+1]\n",
    "                                            for i in range(len(tweet_token_list)-1)]\n",
    "    tweet = ' '.join(tweet_token_list)\n",
    "    return tweet"
   ]
  },
  {
   "cell_type": "code",
   "execution_count": 57,
   "metadata": {},
   "outputs": [],
   "source": [
    "tweets_df['Clean Tweet'] = tweets_df['Full Text'].apply(clean_tweet)\n",
    "#len(my_stopwords)"
   ]
  },
  {
   "cell_type": "code",
   "execution_count": 58,
   "metadata": {},
   "outputs": [
    {
     "data": {
      "text/plain": [
       "array([' year ago releas first pc sinc growth technolog expand tremend way take walk histori learn comput age unfold futur ',\n",
       "       'want technic dive jetson agx xavier check new dev blog also includ deep learn inferenc benchmark result ',\n",
       "       'cullen comput gener face use gener adversari network progress grow techniqu nvidia train   imag photobooth zkm center art media ',\n",
       "       ...,\n",
       "       '  minimum wage destroy small busi peopl it’ help anybodi could would use robot instead peopl ',\n",
       "       'facebook microsoft today introduc open neural network exchang format standard repres facebook microsoft today introduc open neural network exchang onnx format standard repres',\n",
       "       'jaw drop real world applic data scienc keynot deliv senior data scientist appl leader summit watch free '],\n",
       "      dtype=object)"
      ]
     },
     "execution_count": 58,
     "metadata": {},
     "output_type": "execute_result"
    }
   ],
   "source": [
    "tweets_df.groupby('Author')['Clean Tweet'].apply(lambda x:' '.join(x)).values"
   ]
  },
  {
   "cell_type": "code",
   "execution_count": 59,
   "metadata": {},
   "outputs": [],
   "source": [
    "model_, vocab = TwitterRank.get_lda_model( samples=200, topics=10,n_iter=50, df_in=tweets_df)"
   ]
  },
  {
   "cell_type": "code",
   "execution_count": 60,
   "metadata": {},
   "outputs": [
    {
     "data": {
      "text/plain": [
       "array([[ 0.10003013,  0.10003485,  0.1       , ...,  0.1       ,\n",
       "         0.1       ,  0.1       ],\n",
       "       [ 0.10000907,  0.10002856,  1.09979596, ...,  1.09974885,\n",
       "         1.09974885,  0.1       ],\n",
       "       [11.10974152,  0.10002032,  0.1000226 , ...,  0.10013587,\n",
       "         0.10013587,  0.10003321],\n",
       "       ...,\n",
       "       [ 7.96800477,  6.6764805 ,  0.10012239, ...,  0.1       ,\n",
       "         0.1       ,  1.09996424],\n",
       "       [ 0.10002759,  1.52340398,  0.1       , ...,  0.1       ,\n",
       "         0.1       ,  0.10000255],\n",
       "       [12.22203654,  0.10001349,  0.1       , ...,  0.1       ,\n",
       "         0.1       ,  0.1       ]])"
      ]
     },
     "execution_count": 60,
     "metadata": {},
     "output_type": "execute_result"
    }
   ],
   "source": [
    "model_.components_"
   ]
  },
  {
   "cell_type": "code",
   "execution_count": 62,
   "metadata": {},
   "outputs": [
    {
     "data": {
      "text/plain": [
       "46926"
      ]
     },
     "execution_count": 62,
     "metadata": {},
     "output_type": "execute_result"
    }
   ],
   "source": [
    "len(vocab)"
   ]
  },
  {
   "cell_type": "code",
   "execution_count": 63,
   "metadata": {},
   "outputs": [
    {
     "data": {
      "text/plain": [
       "46926"
      ]
     },
     "execution_count": 63,
     "metadata": {},
     "output_type": "execute_result"
    }
   ],
   "source": [
    "len(set(vocab))"
   ]
  },
  {
   "cell_type": "code",
   "execution_count": 64,
   "metadata": {},
   "outputs": [],
   "source": [
    "def model_topics(algorithm, vocab, model_in=None):\n",
    "    if model_in is None:\n",
    "        if algorithm == 'LDA':\n",
    "            model = LatentDirichletAllocation(n_components=10)\n",
    "        elif algorithm == 'NMF':\n",
    "            model = NMF(n_components=10)\n",
    "        model.fit(tf)\n",
    "        model.get_params()\n",
    "    else: model = model_in\n",
    "    topic_word_df = pd.DataFrame(model.components_,columns=vocab)\n",
    "    sorted_topic_words = pd.DataFrame()\n",
    "    for index, row in topic_word_df.iterrows():\n",
    "        row_df = pd.DataFrame({'topic_'+str(index): row.sort_values(ascending=False).index[:5].values})\n",
    "        sorted_topic_words = pd.concat([sorted_topic_words,row_df],axis=1)\n",
    "    return topic_word_df, sorted_topic_words"
   ]
  },
  {
   "cell_type": "code",
   "execution_count": 65,
   "metadata": {},
   "outputs": [],
   "source": [
    "topics_word, sorted_topic_words = model_topics('LDA',vocab=vocab,model_in=model_)"
   ]
  },
  {
   "cell_type": "code",
   "execution_count": 66,
   "metadata": {},
   "outputs": [
    {
     "data": {
      "text/html": [
       "<div>\n",
       "<style scoped>\n",
       "    .dataframe tbody tr th:only-of-type {\n",
       "        vertical-align: middle;\n",
       "    }\n",
       "\n",
       "    .dataframe tbody tr th {\n",
       "        vertical-align: top;\n",
       "    }\n",
       "\n",
       "    .dataframe thead th {\n",
       "        text-align: right;\n",
       "    }\n",
       "</style>\n",
       "<table border=\"1\" class=\"dataframe\">\n",
       "  <thead>\n",
       "    <tr style=\"text-align: right;\">\n",
       "      <th></th>\n",
       "      <th>topic_0</th>\n",
       "      <th>topic_1</th>\n",
       "      <th>topic_2</th>\n",
       "      <th>topic_3</th>\n",
       "      <th>topic_4</th>\n",
       "      <th>topic_5</th>\n",
       "      <th>topic_6</th>\n",
       "      <th>topic_7</th>\n",
       "      <th>topic_8</th>\n",
       "      <th>topic_9</th>\n",
       "    </tr>\n",
       "  </thead>\n",
       "  <tbody>\n",
       "    <tr>\n",
       "      <th>0</th>\n",
       "      <td>learn</td>\n",
       "      <td>regul</td>\n",
       "      <td>ai</td>\n",
       "      <td>facebook</td>\n",
       "      <td>gener</td>\n",
       "      <td>ai</td>\n",
       "      <td>recognit</td>\n",
       "      <td>googl</td>\n",
       "      <td>learn</td>\n",
       "      <td>ai</td>\n",
       "    </tr>\n",
       "    <tr>\n",
       "      <th>1</th>\n",
       "      <td>machin</td>\n",
       "      <td>vote</td>\n",
       "      <td>learn</td>\n",
       "      <td>googl</td>\n",
       "      <td>network</td>\n",
       "      <td>googl</td>\n",
       "      <td>facial</td>\n",
       "      <td>intellig</td>\n",
       "      <td>ai</td>\n",
       "      <td>join</td>\n",
       "    </tr>\n",
       "    <tr>\n",
       "      <th>2</th>\n",
       "      <td>googl</td>\n",
       "      <td>want</td>\n",
       "      <td>machin</td>\n",
       "      <td>twitter</td>\n",
       "      <td>imag</td>\n",
       "      <td>artifici</td>\n",
       "      <td>amazon</td>\n",
       "      <td>artifici</td>\n",
       "      <td>ibm</td>\n",
       "      <td>us</td>\n",
       "    </tr>\n",
       "    <tr>\n",
       "      <th>3</th>\n",
       "      <td>ai</td>\n",
       "      <td>intel</td>\n",
       "      <td>googl</td>\n",
       "      <td>news</td>\n",
       "      <td>use</td>\n",
       "      <td>intellig</td>\n",
       "      <td>use</td>\n",
       "      <td>use</td>\n",
       "      <td>machin</td>\n",
       "      <td>discuss</td>\n",
       "    </tr>\n",
       "    <tr>\n",
       "      <th>4</th>\n",
       "      <td>research</td>\n",
       "      <td>cc</td>\n",
       "      <td>microsoft</td>\n",
       "      <td>thank</td>\n",
       "      <td>train</td>\n",
       "      <td>via</td>\n",
       "      <td>face</td>\n",
       "      <td>ai</td>\n",
       "      <td>data</td>\n",
       "      <td>futur</td>\n",
       "    </tr>\n",
       "  </tbody>\n",
       "</table>\n",
       "</div>"
      ],
      "text/plain": [
       "    topic_0 topic_1    topic_2   topic_3  topic_4   topic_5   topic_6  \\\n",
       "0     learn   regul         ai  facebook    gener        ai  recognit   \n",
       "1    machin    vote      learn     googl  network     googl    facial   \n",
       "2     googl    want     machin   twitter     imag  artifici    amazon   \n",
       "3        ai   intel      googl      news      use  intellig       use   \n",
       "4  research      cc  microsoft     thank    train       via      face   \n",
       "\n",
       "    topic_7 topic_8  topic_9  \n",
       "0     googl   learn       ai  \n",
       "1  intellig      ai     join  \n",
       "2  artifici     ibm       us  \n",
       "3       use  machin  discuss  \n",
       "4        ai    data    futur  "
      ]
     },
     "execution_count": 66,
     "metadata": {},
     "output_type": "execute_result"
    }
   ],
   "source": [
    "sorted_topic_words"
   ]
  },
  {
   "cell_type": "code",
   "execution_count": 51,
   "metadata": {},
   "outputs": [],
   "source": [
    "string_with_pic = tweets_df['Full Text'].iloc[0]"
   ]
  },
  {
   "cell_type": "code",
   "execution_count": 54,
   "metadata": {},
   "outputs": [
    {
     "data": {
      "text/plain": [
       "['msft.social/W3d912', 'pic.twitter.com/xSLrLWvLP5']"
      ]
     },
     "execution_count": 54,
     "metadata": {},
     "output_type": "execute_result"
    }
   ],
   "source": [
    "re.findall('[A-Za-z0-9.@]+\\.[A-Za-z0-9]+/[A-Za-z0-9.@]+',string_with_pic)"
   ]
  },
  {
   "cell_type": "code",
   "execution_count": null,
   "metadata": {},
   "outputs": [],
   "source": []
  }
 ],
 "metadata": {
  "kernelspec": {
   "display_name": "Python 3",
   "language": "python",
   "name": "python3"
  },
  "language_info": {
   "codemirror_mode": {
    "name": "ipython",
    "version": 3
   },
   "file_extension": ".py",
   "mimetype": "text/x-python",
   "name": "python",
   "nbconvert_exporter": "python",
   "pygments_lexer": "ipython3",
   "version": "3.5.2"
  }
 },
 "nbformat": 4,
 "nbformat_minor": 2
}
